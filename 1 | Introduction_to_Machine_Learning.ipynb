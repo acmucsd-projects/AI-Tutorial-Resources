{
  "nbformat": 4,
  "nbformat_minor": 0,
  "metadata": {
    "colab": {
      "provenance": [],
      "authorship_tag": "ABX9TyP/G76wCxro2lsaXxOk67xS",
      "include_colab_link": true
    },
    "kernelspec": {
      "name": "python3",
      "display_name": "Python 3"
    },
    "language_info": {
      "name": "python"
    }
  },
  "cells": [
    {
      "cell_type": "markdown",
      "metadata": {
        "id": "view-in-github",
        "colab_type": "text"
      },
      "source": [
        "<a href=\"https://colab.research.google.com/github/acmucsd-projects/AI-Tutorial-Resources/blob/main/1%20%7C%20Introduction_to_Machine_Learning.ipynb\" target=\"_parent\"><img src=\"https://colab.research.google.com/assets/colab-badge.svg\" alt=\"Open In Colab\"/></a>"
      ]
    },
    {
      "cell_type": "markdown",
      "source": [
        "# **Introduction to Machine Learning**"
      ],
      "metadata": {
        "id": "DwAAxyPlSPZR"
      }
    },
    {
      "cell_type": "markdown",
      "source": [
        "Contributors: Nolan, Katie"
      ],
      "metadata": {
        "id": "YqmF6QSZS9uO"
      }
    },
    {
      "cell_type": "markdown",
      "source": [
        "Welcome to the Intro to Machine Learning notebook! This is an introduction notebook generally geared towards those unfamiliar with machine learning, or in need of a quick refresher. We'll be glossing over a brief summary of various AI and Machine Learning concepts, and check out some examples of the most basic foundation of machine learning models, starting from regression models. If you are new to Python or data science, we recommend that you go through this notebook in its entirety, since it will set you up well for everything else."
      ],
      "metadata": {
        "id": "r7OtmibBTZgX"
      }
    },
    {
      "cell_type": "markdown",
      "source": [
        "#### **What is Machine Learning?**\n",
        "Machine learning, generally speaking, is the idea of **estimating a solution by applying an algorithm to data without explicit instruction**. A question you may have, then, is *What situations strictly require machine learning solutions rather than a well-designed algorithm?*\n",
        "\n",
        "> Tasks such as MRI scans, face recognition, voice recognition, speech recognition, and generative AI are examples of these cases. You could say that you can develop an algorithm to handle these, but in the case of face recognition (as an example), there are simply too many edge cases that an algorithm may never exist, or warrant the gargantuan effort in comparison to simply training a machine learning model to automate that task.\n",
        "\n"
      ],
      "metadata": {
        "id": "9g_JQamKVHJz"
      }
    },
    {
      "cell_type": "markdown",
      "source": [
        "In general, we can break down the machine learning pipeline to be:\n",
        "```\n",
        "Data -> Algorithm -> Solution\n",
        "```\n",
        "wherein we apply some kind of algorithm to our data to learn some kind of solution. These solutions broadly fall under three categories:\n",
        "* **Predictions (Supervised Learning)**\n",
        "  * Classification: Prediction of categories - Is an image a dog or a duck?\n",
        "  * Regression: Prediction of values - Price of a house given its dimensions?\n",
        "* **Patterns(Unsupervised Learning)**\n",
        "  * Discovering structure or underlying patterns in a collection of data (i.e., [K-Means](https://user.ceng.metu.edu.tr/~akifakkus/courses/ceng574/k-means/)) (demo link)\n",
        "  * Discovering diseases, groups of customers in market data\n",
        "* **Decisions (Reinforcement Learning)**\n",
        "  * Given the state of the world, what is your next action? What rewards or punishments will be incurred?"
      ],
      "metadata": {
        "id": "1vb_3pNKXB99"
      }
    },
    {
      "cell_type": "markdown",
      "source": [
        "## **Seaborn, Pandas, and Data Exploration**"
      ],
      "metadata": {
        "id": "GwltCCvQU8rF"
      }
    },
    {
      "cell_type": "markdown",
      "source": [
        "Two of the most fundamental libraries in Python is **pandas** and **seaborn**, toolkits for data manipulation and data visualization, respectively."
      ],
      "metadata": {
        "id": "BpGBh--ZZMyS"
      }
    },
    {
      "cell_type": "code",
      "source": [
        "import pandas as pd"
      ],
      "metadata": {
        "id": "5Rx490VyZeaK"
      },
      "execution_count": null,
      "outputs": []
    },
    {
      "cell_type": "markdown",
      "source": [
        "As an example, we'll be exploring the **Iris Dataset**, the oldest and a classic benchmarking dataset from [The UC Irvine Machine Learning Repository](https://archive.ics.uci.edu/dataset/53/iris), often used for classification tasks. It consists of iris flowers, where each observation includes four features:\n",
        "1. **Sepal Length**\n",
        "2. **Sepal Width**\n",
        "3. **Petal Length**\n",
        "4. **Petal Width**\n",
        "\n",
        "<center>\n",
        "<img src=\"https://www.math.umd.edu/~petersd/666/html/iris_with_labels.jpg\" alt=\"Iris diagram\">\n",
        "</center>\n",
        "\n",
        "The dataset also contains a feature called **species**, which categorizes the flowers into one of three species:\n",
        "- **Iris setosa**\n",
        "- **Iris versicolor**\n",
        "- **Iris virginica**"
      ],
      "metadata": {
        "id": "nLAd5Qt0ZfNX"
      }
    },
    {
      "cell_type": "markdown",
      "source": [
        "We can load the dataset in using seaborn (their library has built-in datasets), and explore with pandas."
      ],
      "metadata": {
        "id": "FqOnNbKFbcDf"
      }
    },
    {
      "cell_type": "code",
      "source": [
        "import pandas as pd\n",
        "import seaborn as sns\n",
        "iris_df = sns.load_dataset('iris')"
      ],
      "metadata": {
        "id": "6hhzE6pJbWik"
      },
      "execution_count": null,
      "outputs": []
    },
    {
      "cell_type": "markdown",
      "source": [
        "`sns.load_dataset` automatically loads in the dataset as a **Pandas DataFrame**, an object that allows us to view and manipulate our data. Data is commonly stored in `.csv` (comma-separated value) files.\n",
        "\n",
        "If we wanted to load a `filename.csv` file as a dataset instead, we'd call the `read_csv()` method from Pandas to load it as a DataFrame:\n",
        "```\n",
        "import pandas as pd\n",
        "df = pd.read_csv('filename.csv')\n",
        "```\n",
        "There are a lot more parameters you can try in the documentation [here](https://pandas.pydata.org/docs/reference/api/pandas.read_csv.html).\n",
        "\n",
        "We'd recommend you try experimenting with `skiprows` and `chunksize` to see how those work (they're some of the more common other parameters besides the file path."
      ],
      "metadata": {
        "id": "mpgRwnLObpEj"
      }
    },
    {
      "cell_type": "code",
      "source": [
        "iris_df.head()"
      ],
      "metadata": {
        "id": "YRil7lELdLdB"
      },
      "execution_count": null,
      "outputs": []
    },
    {
      "cell_type": "markdown",
      "source": [
        "We can either call `.head()` or `.tail()` on our object, which shows either the first few or last few rows, respectively, of our dataset. It also takes in an integer value as the number of rows to display. We can also see a general summary of our dataset using `.describe()`. Try it in the cell below."
      ],
      "metadata": {
        "id": "g1XZalHWdM50"
      }
    },
    {
      "cell_type": "code",
      "source": [
        "# Your code here"
      ],
      "metadata": {
        "id": "srKaSSbSeVqW"
      },
      "execution_count": null,
      "outputs": []
    },
    {
      "cell_type": "markdown",
      "source": [
        "#### Changelog\n",
        "<details><summary>click to reveal!</summary>\n",
        "\n",
        "* 5/1/2025 - Creation [@NolanChai](http://github.com/NolanChai)"
      ],
      "metadata": {
        "id": "6aG30kwnULhm"
      }
    }
  ]
}